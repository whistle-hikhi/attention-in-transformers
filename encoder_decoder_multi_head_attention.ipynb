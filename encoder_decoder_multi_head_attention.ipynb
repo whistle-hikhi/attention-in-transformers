{
  "nbformat": 4,
  "nbformat_minor": 0,
  "metadata": {
    "colab": {
      "provenance": [],
      "authorship_tag": "ABX9TyODcfQbJtOT+26SEdnnwAfY",
      "include_colab_link": true
    },
    "kernelspec": {
      "name": "python3",
      "display_name": "Python 3"
    },
    "language_info": {
      "name": "python"
    }
  },
  "cells": [
    {
      "cell_type": "markdown",
      "metadata": {
        "id": "view-in-github",
        "colab_type": "text"
      },
      "source": [
        "<a href=\"https://colab.research.google.com/github/whistle-hikhi/attention-in-transformers/blob/main/encoder_decoder_multi_head_attention.ipynb\" target=\"_parent\"><img src=\"https://colab.research.google.com/assets/colab-badge.svg\" alt=\"Open In Colab\"/></a>"
      ]
    },
    {
      "cell_type": "code",
      "execution_count": 1,
      "metadata": {
        "id": "_ViUtcdoqDWD"
      },
      "outputs": [],
      "source": [
        "import torch\n",
        "import torch.nn as nn\n",
        "import torch.nn.functional as F"
      ]
    },
    {
      "cell_type": "markdown",
      "source": [
        "# Attention"
      ],
      "metadata": {
        "id": "wQx0YktGul15"
      }
    },
    {
      "cell_type": "code",
      "source": [
        "class Attention(nn.Module):\n",
        "  def __init__(self,d_model=2,row_dim=0,col_dim=1):\n",
        "    super().__init__()\n",
        "\n",
        "    self.W_q = nn.Linear(d_model,d_model,bias=False)\n",
        "    self.W_k = nn.Linear(d_model,d_model,bias=False)\n",
        "    self.W_v = nn.Linear(d_model,d_model,bias=False)\n",
        "\n",
        "    self.row_dim = row_dim\n",
        "    self.col_dim = col_dim\n",
        "\n",
        "  def forward(self,encoding_for_q, encoding_for_k, encoding_for_v, mask=None):\n",
        "    q = self.W_q(encoding_for_q)\n",
        "    k = self.W_k(encoding_for_k)\n",
        "    v = self.W_v(encoding_for_v)\n",
        "\n",
        "    sims = torch.matmul(q, k.transpose(dim0=self.row_dim, dim1=self.col_dim))\n",
        "    scaled_sims = sims / torch.tensor(k.size(self.col_dim)**0.5)\n",
        "\n",
        "    if mask is not None:\n",
        "        scaled_sims = scaled_sims.masked_fill(mask=mask, value=-1e9)\n",
        "\n",
        "    attention_percents = F.softmax(scaled_sims, dim=self.col_dim)\n",
        "    attention = torch.matmul(attention_percents, v)\n",
        "\n",
        "    return attention"
      ],
      "metadata": {
        "id": "92ogP4fksw2t"
      },
      "execution_count": 2,
      "outputs": []
    },
    {
      "cell_type": "code",
      "source": [
        "## create matrices of token encodings...\n",
        "encodings_for_q = torch.tensor([[1.16, 0.23],\n",
        "                                [0.57, 1.36],\n",
        "                                [4.41, -2.16]])\n",
        "\n",
        "encodings_for_k = torch.tensor([[1.16, 0.23],\n",
        "                                [0.57, 1.36],\n",
        "                                [4.41, -2.16]])\n",
        "\n",
        "encodings_for_v = torch.tensor([[1.16, 0.23],\n",
        "                                [0.57, 1.36],\n",
        "                                [4.41, -2.16]])\n",
        "\n",
        "## set the seed for the random number generator\n",
        "torch.manual_seed(42)\n",
        "\n",
        "## create an attention object\n",
        "attention = Attention(d_model=2,\n",
        "                      row_dim=0,\n",
        "                      col_dim=1)\n",
        "\n",
        "## calculate encoder-decoder attention\n",
        "attention(encodings_for_q, encodings_for_k, encodings_for_v)"
      ],
      "metadata": {
        "colab": {
          "base_uri": "https://localhost:8080/"
        },
        "id": "kVcz1DxMuaR2",
        "outputId": "ab083a28-84f4-4b7d-ce4d-f11a6114d955"
      },
      "execution_count": 3,
      "outputs": [
        {
          "output_type": "execute_result",
          "data": {
            "text/plain": [
              "tensor([[1.0100, 1.0641],\n",
              "        [0.2040, 0.7057],\n",
              "        [3.4989, 2.2427]], grad_fn=<MmBackward0>)"
            ]
          },
          "metadata": {},
          "execution_count": 3
        }
      ]
    },
    {
      "cell_type": "markdown",
      "source": [
        "# Multi-head Attention"
      ],
      "metadata": {
        "id": "fuoP2nEOuo1c"
      }
    },
    {
      "cell_type": "code",
      "source": [
        "class MultiHeadAttention(nn.Module):\n",
        "  def __init__(self,d_model=2,num_heads=1,row_dim=0,col_dim=1, ):\n",
        "    super().__init__()\n",
        "\n",
        "    self.heads = nn.ModuleList([Attention(d_model,row_dim,col_dim) for _ in range(num_heads)])\n",
        "    self.col_dim = col_dim\n",
        "\n",
        "  def forward(self, encodings_for_q, encodings_for_k, encodings_for_v):\n",
        "    return torch.cat([head(encodings_for_q, encodings_for_k, encodings_for_v) for head in self.heads], dim=self.col_dim)"
      ],
      "metadata": {
        "id": "AuWiqHXqud4h"
      },
      "execution_count": 4,
      "outputs": []
    },
    {
      "cell_type": "code",
      "source": [
        "## set the seed for the random number generator\n",
        "torch.manual_seed(42)\n",
        "\n",
        "## create an attention object\n",
        "multiHeadAttention = MultiHeadAttention(d_model=2,\n",
        "                                        row_dim=0,\n",
        "                                        col_dim=1,\n",
        "                                        num_heads=1)\n",
        "\n",
        "## calculate encoder-decoder attention\n",
        "multiHeadAttention(encodings_for_q, encodings_for_k, encodings_for_v)\n"
      ],
      "metadata": {
        "colab": {
          "base_uri": "https://localhost:8080/"
        },
        "id": "bfxLGHoNvbiP",
        "outputId": "5183f20f-c7c0-4d6c-cc82-f99dd6b0286d"
      },
      "execution_count": 5,
      "outputs": [
        {
          "output_type": "execute_result",
          "data": {
            "text/plain": [
              "tensor([[1.0100, 1.0641],\n",
              "        [0.2040, 0.7057],\n",
              "        [3.4989, 2.2427]], grad_fn=<CatBackward0>)"
            ]
          },
          "metadata": {},
          "execution_count": 5
        }
      ]
    },
    {
      "cell_type": "code",
      "source": [],
      "metadata": {
        "id": "BymzySslveBW"
      },
      "execution_count": null,
      "outputs": []
    }
  ]
}